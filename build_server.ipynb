{
 "cells": [
  {
   "cell_type": "code",
   "execution_count": 3,
   "id": "527f64b9",
   "metadata": {},
   "outputs": [],
   "source": [
    "import requests"
   ]
  },
  {
   "cell_type": "code",
   "execution_count": 4,
   "id": "8ea00f87",
   "metadata": {},
   "outputs": [],
   "source": [
    "import os\n",
    "os.makedirs(\"assets\", exist_ok=True)"
   ]
  },
  {
   "cell_type": "code",
   "execution_count": 5,
   "id": "c880d703",
   "metadata": {},
   "outputs": [],
   "source": [
    "url = \"https://raw.githubusercontent.com/modelcontextprotocol/python-sdk/refs/heads/main/README.md\"\n",
    "response = requests.get(url)\n",
    "if response.status_code == 200:\n",
    "    with open(\"assets/mcp_python_sdk_readme.txt\", \"w\") as file:\n",
    "        file.write(response.text)"
   ]
  },
  {
   "cell_type": "code",
   "execution_count": 7,
   "id": "11a3cad4",
   "metadata": {},
   "outputs": [],
   "source": [
    "url = \"https://modelcontextprotocol.io/llms-full.txt\"\n",
    "response = requests.get(url)\n",
    "if response.status_code == 200:\n",
    "    with open(\"assets/mcp_full_text.txt\", \"w\", encoding=\"utf-8\") as file:\n",
    "        file.write(response.text)"
   ]
  },
  {
   "cell_type": "code",
   "execution_count": 9,
   "id": "d77bccc7",
   "metadata": {},
   "outputs": [],
   "source": [
    "## fbr_api_documentation copied from : https://fbrapi.com/documentation"
   ]
  },
  {
   "cell_type": "code",
   "execution_count": null,
   "id": "d167858e",
   "metadata": {},
   "outputs": [],
   "source": [
    "## world_football_transfer_market.txt copied from: https://jaseziv.github.io/worldfootballR/articles/extract-transfermarkt-data.html#transfermarkt-helper-functions"
   ]
  },
  {
   "cell_type": "code",
   "execution_count": 12,
   "id": "b4e14c16",
   "metadata": {},
   "outputs": [
    {
     "data": {
      "text/plain": [
       "2635"
      ]
     },
     "execution_count": 12,
     "metadata": {},
     "output_type": "execute_result"
    }
   ],
   "source": [
    "with open(\"assets/overall_prompt.md\", \"r\") as f:\n",
    "    overall_prompt = f.read()\n",
    "len(overall_prompt)"
   ]
  },
  {
   "cell_type": "code",
   "execution_count": null,
   "id": "20eb7c07",
   "metadata": {},
   "outputs": [],
   "source": []
  }
 ],
 "metadata": {
  "kernelspec": {
   "display_name": ".venv",
   "language": "python",
   "name": "python3"
  },
  "language_info": {
   "codemirror_mode": {
    "name": "ipython",
    "version": 3
   },
   "file_extension": ".py",
   "mimetype": "text/x-python",
   "name": "python",
   "nbconvert_exporter": "python",
   "pygments_lexer": "ipython3",
   "version": "3.11.9"
  }
 },
 "nbformat": 4,
 "nbformat_minor": 5
}
