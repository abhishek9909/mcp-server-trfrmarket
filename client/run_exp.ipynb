{
 "cells": [
  {
   "cell_type": "code",
   "execution_count": 9,
   "id": "2ae04611",
   "metadata": {},
   "outputs": [],
   "source": [
    "import os\n",
    "import glob"
   ]
  },
  {
   "cell_type": "code",
   "execution_count": 10,
   "id": "697563fe",
   "metadata": {},
   "outputs": [],
   "source": [
    "def run_mcp_client(query: str):\n",
    "    os.system(f\"python main.py ../server/mcp_server.py {query}\")"
   ]
  },
  {
   "cell_type": "code",
   "execution_count": 11,
   "id": "042b1d0e",
   "metadata": {},
   "outputs": [],
   "source": [
    "def run_query(query: str, id: str = None):    \n",
    "    ## move logs and result files to new directory\n",
    "    run_mcp_client(query)    \n",
    "    os.makedirs(f\"logs/{id}/\", exist_ok=True)\n",
    "    glob_results = glob.glob(\"r_result_*\")\n",
    "    for file in glob_results:\n",
    "        os.rename(file, f\"logs/{id}/{file}\")\n",
    "    if os.path.exists(\"logs.txt\"):\n",
    "        os.rename(\"logs.txt\", f\"logs/{id}/logs.txt\")"
   ]
  },
  {
   "cell_type": "code",
   "execution_count": 12,
   "id": "33fce5c3",
   "metadata": {},
   "outputs": [
    {
     "data": {
      "text/plain": [
       "['../questions\\\\anthropic_onehop.txt',\n",
       " '../questions\\\\anthropic_twothreehop.txt',\n",
       " '../questions\\\\chatgpt.txt',\n",
       " '../questions\\\\chatgpt_obs.txt']"
      ]
     },
     "execution_count": 12,
     "metadata": {},
     "output_type": "execute_result"
    }
   ],
   "source": [
    "question_files = glob.glob(\"../questions/*.txt\")\n",
    "question_files[:5]"
   ]
  },
  {
   "cell_type": "code",
   "execution_count": 13,
   "id": "0fe71404",
   "metadata": {},
   "outputs": [
    {
     "data": {
      "text/plain": [
       "[{'question': '\"What are the current Premier League standings for matchday 30 in the 2024-2025 season?\"',\n",
       "  'id': 'anthropic_onehop_0'},\n",
       " {'question': '\"Show me the list of players with expiring contracts in Spain for 2025.\"',\n",
       "  'id': 'anthropic_onehop_1'},\n",
       " {'question': '\"Who are all the injured players in the German Bundesliga right now?\"',\n",
       "  'id': 'anthropic_onehop_2'},\n",
       " {'question': '\"Can you get me the transfer history of Erling Haaland?\"',\n",
       "  'id': 'anthropic_onehop_3'},\n",
       " {'question': '\"What are the current market values of players in the Italian Serie A for the 2024-2025 season?\"',\n",
       "  'id': 'anthropic_onehop_4'}]"
      ]
     },
     "execution_count": 13,
     "metadata": {},
     "output_type": "execute_result"
    }
   ],
   "source": [
    "collated_question_df_list = []\n",
    "for question_file in question_files:\n",
    "    with open(question_file, \"r\") as f:\n",
    "        lines = f.readlines()\n",
    "    for idx, line in enumerate(lines):\n",
    "        collated_question_df_list.append({\n",
    "            \"question\": f\"\\\"{line.strip()}\\\"\",\n",
    "            \"id\": f\"{os.path.basename(question_file).split('.')[0]}_{idx}\"\n",
    "        })\n",
    "collated_question_df_list[:5]"
   ]
  },
  {
   "cell_type": "code",
   "execution_count": 14,
   "id": "30fa8ef8",
   "metadata": {},
   "outputs": [
    {
     "data": {
      "text/html": [
       "<div>\n",
       "<style scoped>\n",
       "    .dataframe tbody tr th:only-of-type {\n",
       "        vertical-align: middle;\n",
       "    }\n",
       "\n",
       "    .dataframe tbody tr th {\n",
       "        vertical-align: top;\n",
       "    }\n",
       "\n",
       "    .dataframe thead th {\n",
       "        text-align: right;\n",
       "    }\n",
       "</style>\n",
       "<table border=\"1\" class=\"dataframe\">\n",
       "  <thead>\n",
       "    <tr style=\"text-align: right;\">\n",
       "      <th></th>\n",
       "      <th>question</th>\n",
       "      <th>id</th>\n",
       "    </tr>\n",
       "  </thead>\n",
       "  <tbody>\n",
       "    <tr>\n",
       "      <th>0</th>\n",
       "      <td>\"What are the current Premier League standings...</td>\n",
       "      <td>anthropic_onehop_0</td>\n",
       "    </tr>\n",
       "    <tr>\n",
       "      <th>1</th>\n",
       "      <td>\"Show me the list of players with expiring con...</td>\n",
       "      <td>anthropic_onehop_1</td>\n",
       "    </tr>\n",
       "    <tr>\n",
       "      <th>2</th>\n",
       "      <td>\"Who are all the injured players in the German...</td>\n",
       "      <td>anthropic_onehop_2</td>\n",
       "    </tr>\n",
       "    <tr>\n",
       "      <th>3</th>\n",
       "      <td>\"Can you get me the transfer history of Erling...</td>\n",
       "      <td>anthropic_onehop_3</td>\n",
       "    </tr>\n",
       "    <tr>\n",
       "      <th>4</th>\n",
       "      <td>\"What are the current market values of players...</td>\n",
       "      <td>anthropic_onehop_4</td>\n",
       "    </tr>\n",
       "  </tbody>\n",
       "</table>\n",
       "</div>"
      ],
      "text/plain": [
       "                                            question                  id\n",
       "0  \"What are the current Premier League standings...  anthropic_onehop_0\n",
       "1  \"Show me the list of players with expiring con...  anthropic_onehop_1\n",
       "2  \"Who are all the injured players in the German...  anthropic_onehop_2\n",
       "3  \"Can you get me the transfer history of Erling...  anthropic_onehop_3\n",
       "4  \"What are the current market values of players...  anthropic_onehop_4"
      ]
     },
     "execution_count": 14,
     "metadata": {},
     "output_type": "execute_result"
    }
   ],
   "source": [
    "import pandas as pd\n",
    "collated_question_df = pd.DataFrame(collated_question_df_list)\n",
    "collated_question_df.head(5)"
   ]
  },
  {
   "cell_type": "code",
   "execution_count": 15,
   "id": "4eb2c048",
   "metadata": {},
   "outputs": [],
   "source": [
    "collated_question_df.to_csv(\"collated_questions.tsv\", sep = '\\t', index=False)"
   ]
  },
  {
   "cell_type": "code",
   "execution_count": 16,
   "id": "9d139e26",
   "metadata": {},
   "outputs": [],
   "source": [
    "first_row = collated_question_df.iloc[0]\n",
    "run_query(first_row[\"question\"], first_row[\"id\"])"
   ]
  },
  {
   "cell_type": "code",
   "execution_count": 17,
   "id": "25cf41b2",
   "metadata": {},
   "outputs": [],
   "source": [
    "for idx, row in collated_question_df.iterrows():\n",
    "    if idx == 0:\n",
    "        continue\n",
    "    try:\n",
    "        run_query(row[\"question\"], row[\"id\"])\n",
    "    except Exception as e:\n",
    "        print(f\"Error processing question {idx}: {e}\")\n",
    "        ## clean up the logs and result files\n",
    "        glob_results = glob.glob(\"r_result_*\")\n",
    "        for file in glob_results:\n",
    "            os.remove(file)\n",
    "        if os.path.exists(\"logs.txt\"):\n",
    "            os.remove(\"logs.txt\")\n",
    "        continue"
   ]
  },
  {
   "cell_type": "code",
   "execution_count": null,
   "id": "91872c0c",
   "metadata": {},
   "outputs": [],
   "source": []
  }
 ],
 "metadata": {
  "kernelspec": {
   "display_name": ".venv",
   "language": "python",
   "name": "python3"
  },
  "language_info": {
   "codemirror_mode": {
    "name": "ipython",
    "version": 3
   },
   "file_extension": ".py",
   "mimetype": "text/x-python",
   "name": "python",
   "nbconvert_exporter": "python",
   "pygments_lexer": "ipython3",
   "version": "3.11.9"
  }
 },
 "nbformat": 4,
 "nbformat_minor": 5
}
