{
 "cells": [
  {
   "cell_type": "code",
   "execution_count": 22,
   "id": "eea29f54",
   "metadata": {},
   "outputs": [],
   "source": [
    "import os\n",
    "import glob"
   ]
  },
  {
   "cell_type": "code",
   "execution_count": 23,
   "id": "12978963",
   "metadata": {},
   "outputs": [],
   "source": [
    "def run_mcp_client(query: str):\n",
    "    os.system(f\"python main.py ../server/mcp_server.py {query}\")"
   ]
  },
  {
   "cell_type": "code",
   "execution_count": 24,
   "id": "1e6cfdce",
   "metadata": {},
   "outputs": [],
   "source": [
    "def run_query(query: str, id: str = None):    \n",
    "    ## move logs and result files to new directory\n",
    "    run_mcp_client(query)    \n",
    "    os.makedirs(f\"logs/{id}/\", exist_ok=True)\n",
    "    glob_results = glob.glob(\"r_result_*\")\n",
    "    for file in glob_results:\n",
    "        os.rename(file, f\"logs/{id}/{file}\")\n",
    "    if os.path.exists(\"logs.txt\"):\n",
    "        os.rename(\"logs.txt\", f\"logs/{id}/logs.txt\")"
   ]
  },
  {
   "cell_type": "code",
   "execution_count": 26,
   "id": "2a5a202a",
   "metadata": {},
   "outputs": [],
   "source": [
    "# import pandas as pd\n",
    "\n",
    "# # Read all the CSV files\n",
    "# bayern = pd.read_csv('r_result_1744521062.7804043.csv', encoding=\"ISO-8859-1\")\n",
    "# leverkusen = pd.read_csv('r_result_1744521073.8521264.csv', encoding=\"ISO-8859-1\")\n",
    "# leipzig = pd.read_csv('r_result_1744521084.4724243.csv', encoding=\"ISO-8859-1\")\n",
    "# dortmund = pd.read_csv('r_result_1744521094.6140594.csv', encoding=\"ISO-8859-1\")\n",
    "\n",
    "# # Combine all dataframes\n",
    "# all_stats = pd.concat([bayern, leverkusen, leipzig, dortmund], ignore_index=True)\n",
    "\n",
    "# # Sort by goals scored\n",
    "# top_scorers = all_stats.sort_values('goals', ascending=False)\n",
    "\n",
    "# # Display top 10 scorers\n",
    "# print(\"\\nTop 10 scorers in current season:\")\n",
    "# print(top_scorers[['player_name', 'team_name', 'goals', 'appearances']].head(10).to_string(index=False))"
   ]
  },
  {
   "cell_type": "code",
   "execution_count": 5,
   "id": "28027ad4",
   "metadata": {},
   "outputs": [
    {
     "name": "stdout",
     "output_type": "stream",
     "text": [
      "Encoding of r_result_1744521062.7804043.csv: ISO-8859-1\n"
     ]
    }
   ],
   "source": [
    "import chardet\n",
    "\n",
    "with open(\"r_result_1744521062.7804043.csv\", \"rb\") as f:\n",
    "    raw_data = f.read(10000)\n",
    "    result = chardet.detect(raw_data)\n",
    "    encoding = result['encoding']\n",
    "\n",
    "print(f\"Encoding of r_result_1744521062.7804043.csv: {encoding}\")"
   ]
  },
  {
   "cell_type": "code",
   "execution_count": 18,
   "id": "dad52028",
   "metadata": {},
   "outputs": [],
   "source": [
    "run_query(\"\\\"Which team has the most yellow cards in Portugal\\\"\", \"q_alpha\")"
   ]
  },
  {
   "cell_type": "code",
   "execution_count": 19,
   "id": "07bf4fc4",
   "metadata": {},
   "outputs": [],
   "source": [
    "run_query(\"\\\"Which team has the most yellow cards in Portugal\\\"\", \"q_beta\")"
   ]
  },
  {
   "cell_type": "code",
   "execution_count": 20,
   "id": "97465efc",
   "metadata": {},
   "outputs": [],
   "source": [
    "run_query(\"\\\"Highest transfer from Portugal to Spain between 2020 and 2024\\\"\", \"q_theta\")"
   ]
  },
  {
   "cell_type": "code",
   "execution_count": 21,
   "id": "6cb34d70",
   "metadata": {},
   "outputs": [],
   "source": [
    "run_query(\"\\\"Players who have played for both Man City and Barcelona between 2021 and 2023\\\"\", \"q_delta\")"
   ]
  },
  {
   "cell_type": "code",
   "execution_count": null,
   "id": "353ad7fc",
   "metadata": {},
   "outputs": [],
   "source": []
  }
 ],
 "metadata": {
  "kernelspec": {
   "display_name": ".venv",
   "language": "python",
   "name": "python3"
  },
  "language_info": {
   "codemirror_mode": {
    "name": "ipython",
    "version": 3
   },
   "file_extension": ".py",
   "mimetype": "text/x-python",
   "name": "python",
   "nbconvert_exporter": "python",
   "pygments_lexer": "ipython3",
   "version": "3.11.9"
  }
 },
 "nbformat": 4,
 "nbformat_minor": 5
}
